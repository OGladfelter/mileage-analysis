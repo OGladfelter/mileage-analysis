{
 "cells": [
  {
   "cell_type": "code",
   "execution_count": 1,
   "id": "40517658",
   "metadata": {},
   "outputs": [],
   "source": [
    "import pandas as pd\n",
    "import requests\n",
    "from datetime import datetime"
   ]
  },
  {
   "cell_type": "markdown",
   "id": "9e5f1cc8",
   "metadata": {},
   "source": [
    "## Get the authorization code and activity data"
   ]
  },
  {
   "cell_type": "code",
   "execution_count": 2,
   "id": "5fbdcc61",
   "metadata": {},
   "outputs": [
    {
     "name": "stdout",
     "output_type": "stream",
     "text": [
      "http://www.strava.com/oauth/authorize?client_id=47842&response_type=code&redirect_uri=http://localhost/exchange_token&approval_prompt=force&scope=activity:read_all\n"
     ]
    }
   ],
   "source": [
    "# open the link below and approve access. in the redirect URL, copy the code\n",
    "print(\"http://www.strava.com/oauth/authorize?client_id=47842&response_type=code&redirect_uri=http://localhost/exchange_token&approval_prompt=force&scope=activity:read_all\")"
   ]
  },
  {
   "cell_type": "code",
   "execution_count": 2,
   "id": "6299a4e4",
   "metadata": {},
   "outputs": [],
   "source": [
    "# set strava variables\n",
    "client_id = 47842\n",
    "client_secret = '' # get this from https://www.strava.com/settings/api\n",
    "code = '' # get this from the above URL's redirect"
   ]
  },
  {
   "cell_type": "code",
   "execution_count": 3,
   "id": "6d8888f8",
   "metadata": {},
   "outputs": [
    {
     "name": "stderr",
     "output_type": "stream",
     "text": [
      "/Users/oliver/opt/anaconda3/lib/python3.8/site-packages/urllib3/connectionpool.py:1013: InsecureRequestWarning: Unverified HTTPS request is being made to host 'www.strava.com'. Adding certificate verification is strongly advised. See: https://urllib3.readthedocs.io/en/latest/advanced-usage.html#ssl-warnings\n",
      "  warnings.warn(\n"
     ]
    },
    {
     "name": "stdout",
     "output_type": "stream",
     "text": [
      "1\n",
      "2\n",
      "3\n",
      "4\n",
      "5\n",
      "6\n"
     ]
    }
   ],
   "source": [
    "# get access token\n",
    "def get_access_token(client_id, client_secret, code):\n",
    "    \n",
    "    oauth_url = 'https://www.strava.com/oauth/token'\n",
    "    payload = {\n",
    "        'client_id': client_id, \n",
    "        'client_secret': client_secret, \n",
    "        'code': code, \n",
    "        'grant_type': 'authorization_code'}\n",
    "    r = requests.post(oauth_url, data=payload, verify=False)\n",
    "    access_token = r.json()['access_token']\n",
    "    \n",
    "    return access_token\n",
    "\n",
    "# use access token to get activities\n",
    "def get_activities(access_token, per_page=200, page=1):\n",
    "    activities_url = 'https://www.strava.com/api/v3/athlete/activities'\n",
    "    headers = {'Authorization': 'Bearer ' + access_token}\n",
    "    params = {'per_page': per_page, 'page': page, 'access_token': access_token}\n",
    "    data = requests.get(\n",
    "       activities_url, \n",
    "       headers=headers, \n",
    "       params=params).json()\n",
    "    return data\n",
    "\n",
    "access_token = get_access_token(client_id, client_secret, code)\n",
    "\n",
    "# loop in order to get all activities, since API returns max of 200 per call\n",
    "more_data_to_collect = True\n",
    "activities_data = []\n",
    "page_num = 1\n",
    "\n",
    "while more_data_to_collect:\n",
    "    print(page_num)\n",
    "    activities = get_activities(access_token, page = page_num)\n",
    "    activities_data = activities_data + activities\n",
    "    page_num += 1\n",
    "    if len(activities) < 200:\n",
    "        more_data_to_collect = False \n",
    "        \n",
    "# convert list of activities to dataframe\n",
    "df = pd.DataFrame(activities_data)"
   ]
  },
  {
   "cell_type": "markdown",
   "id": "83fa1d85",
   "metadata": {},
   "source": [
    "## Some basic data prep"
   ]
  },
  {
   "cell_type": "code",
   "execution_count": 4,
   "id": "0617d080",
   "metadata": {},
   "outputs": [],
   "source": [
    "# convert string datetime stamp to date object\n",
    "def dateConvert(value):\n",
    "    return datetime.strptime(value, '%Y-%m-%dT%H:%M:%SZ').date()\n",
    "\n",
    "# Retrieve year from date column \n",
    "def getYear(value):\n",
    "    return str(value)[:4]\n",
    "\n",
    "def stringAndDropTime(value):\n",
    "    return str(value).split(\" \")[0]\n",
    "\n",
    "# remove non-run activities\n",
    "df = df[df['type']=='Run']\n",
    "\n",
    "# remove runs from before 2022\n",
    "df['year'] = df['start_date_local'].apply(getYear)\n",
    "df = df[df['year']=='2022']\n",
    "\n",
    "\n",
    "df = df.reset_index()\n",
    "del df['index']\n",
    "\n",
    "# convert km to miles\n",
    "df['miles'] = df['distance'] * 0.000621371\n",
    "\n",
    "# convert date format\n",
    "df['date'] = df['start_date_local'].apply(dateConvert)\n",
    "\n",
    "# only need these 2 columns\n",
    "df = df[[\"date\", \"miles\"]]\n",
    "\n",
    "# groupby date column to combine mileage on days I recorded 2+ separate runs\n",
    "df = df.groupby('date').sum()\n",
    "df = df.reset_index()"
   ]
  },
  {
   "cell_type": "markdown",
   "id": "0810b319",
   "metadata": {},
   "source": [
    "### Fill In Missing Dates: currently, there are no rows representing dates when I didn't run. For plotting purposes, let's add a row for every date, even when miles run == 0."
   ]
  },
  {
   "cell_type": "code",
   "execution_count": 5,
   "id": "cefa5353",
   "metadata": {},
   "outputs": [
    {
     "name": "stdout",
     "output_type": "stream",
     "text": [
      "1534.8861621826\n"
     ]
    }
   ],
   "source": [
    "dates = pd.date_range(start=df['date'].min(), end=df['date'].max()) # make list of dates, where min and max correspond to df\n",
    "dates = pd.DataFrame({'date':dates}) # convert to df\n",
    "dates = dates[dates['date']>=\"2018-11-29\"] # this is the date I registered with Strava \n",
    "dates = dates.reset_index()\n",
    "del dates['index']\n",
    "\n",
    "# ensure dates are date objects, not strings\n",
    "dates['date'] = dates['date'].apply(stringAndDropTime)\n",
    "df['date'] = df['date'].apply(stringAndDropTime)\n",
    "\n",
    "# left merge dates with df, fill in missing rows with 0\n",
    "runs = dates.merge(df, how='left').sort_values('date', ascending=True).fillna(0)\n",
    "\n",
    "# sanity check\n",
    "print(runs.sum()['miles'])"
   ]
  },
  {
   "cell_type": "code",
   "execution_count": 6,
   "id": "c075bdcd",
   "metadata": {},
   "outputs": [],
   "source": [
    "runs.to_csv(\"mileage-goal/data/2022_mileage.csv\", index = False)"
   ]
  }
 ],
 "metadata": {
  "kernelspec": {
   "display_name": "Python 3",
   "language": "python",
   "name": "python3"
  },
  "language_info": {
   "codemirror_mode": {
    "name": "ipython",
    "version": 3
   },
   "file_extension": ".py",
   "mimetype": "text/x-python",
   "name": "python",
   "nbconvert_exporter": "python",
   "pygments_lexer": "ipython3",
   "version": "3.8.8"
  }
 },
 "nbformat": 4,
 "nbformat_minor": 5
}
